{
 "cells": [
  {
   "cell_type": "code",
   "execution_count": 7,
   "id": "initial_id",
   "metadata": {
    "collapsed": true,
    "ExecuteTime": {
     "end_time": "2023-08-07T09:13:39.505996Z",
     "start_time": "2023-08-07T09:13:38.227767Z"
    }
   },
   "outputs": [],
   "source": [
    "# imports\n",
    "import datasets\n",
    "import evaluate\n",
    "import numpy as np\n",
    "from datasets import load_dataset, Dataset\n",
    "from datasets import Features\n",
    "from datasets import Sequence\n",
    "from datasets import ClassLabel\n",
    "from datasets import Value\n",
    "import os\n",
    "import pandas as pd\n",
    "from transformers import AutoTokenizer, AutoModelForTokenClassification, BertConfig, AutoModelForSequenceClassification, \\\n",
    "    DataCollatorForTokenClassification, TrainingArguments, Trainer\n",
    "import torch\n",
    "\n",
    "import matplotlib.pyplot as plt"
   ]
  },
  {
   "cell_type": "code",
   "execution_count": 37,
   "outputs": [
    {
     "data": {
      "text/plain": "[{'entity': 'B',\n  'score': 0.87804526,\n  'index': 7,\n  'word': 'apple',\n  'start': 24,\n  'end': 29},\n {'entity': 'I',\n  'score': 0.95215666,\n  'index': 8,\n  'word': 'operating',\n  'start': 30,\n  'end': 39},\n {'entity': 'I',\n  'score': 0.9920442,\n  'index': 9,\n  'word': 'system',\n  'start': 40,\n  'end': 46}]"
     },
     "execution_count": 37,
     "metadata": {},
     "output_type": "execute_result"
    }
   ],
   "source": [],
   "metadata": {
    "collapsed": false,
    "ExecuteTime": {
     "end_time": "2023-08-07T12:04:14.163131Z",
     "start_time": "2023-08-07T12:04:12.256738Z"
    }
   },
   "id": "d3fe37711bdeab3a"
  },
  {
   "cell_type": "code",
   "execution_count": 38,
   "outputs": [
    {
     "data": {
      "text/plain": "['O',\n 'O',\n 'O',\n 'O',\n 'O',\n 'O',\n 'O',\n 'B',\n 'I',\n 'I',\n 'O',\n 'O',\n 'O',\n 'O',\n 'O',\n 'O',\n 'O',\n 'O',\n 'O',\n 'O',\n 'O',\n 'O',\n 'O']"
     },
     "execution_count": 38,
     "metadata": {},
     "output_type": "execute_result"
    }
   ],
   "source": [
    "from transformers import AutoTokenizer\n",
    "\n"
   ],
   "metadata": {
    "collapsed": false,
    "ExecuteTime": {
     "end_time": "2023-08-07T12:04:15.311232Z",
     "start_time": "2023-08-07T12:04:14.168669Z"
    }
   },
   "id": "2ea632283bcf56c1"
  },
  {
   "cell_type": "code",
   "execution_count": 38,
   "outputs": [],
   "source": [],
   "metadata": {
    "collapsed": false,
    "ExecuteTime": {
     "end_time": "2023-08-07T12:04:15.365028Z",
     "start_time": "2023-08-07T12:04:15.345788Z"
    }
   },
   "id": "30a3ccfcfee3cc26"
  },
  {
   "cell_type": "code",
   "execution_count": null,
   "outputs": [],
   "source": [],
   "metadata": {
    "collapsed": false
   },
   "id": "4eef53b2f194648b"
  }
 ],
 "metadata": {
  "kernelspec": {
   "display_name": "Python 3",
   "language": "python",
   "name": "python3"
  },
  "language_info": {
   "codemirror_mode": {
    "name": "ipython",
    "version": 2
   },
   "file_extension": ".py",
   "mimetype": "text/x-python",
   "name": "python",
   "nbconvert_exporter": "python",
   "pygments_lexer": "ipython2",
   "version": "2.7.6"
  }
 },
 "nbformat": 4,
 "nbformat_minor": 5
}
