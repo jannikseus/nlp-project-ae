{
 "cells": [
  {
   "cell_type": "raw",
   "source": [
    "\n",
    "\n"
   ],
   "metadata": {
    "collapsed": false
   }
  },
  {
   "cell_type": "code",
   "execution_count": 1,
   "outputs": [],
   "source": [
    "# imports\n",
    "import pandas as pd\n",
    "import numpy as np\n",
    "import spacy"
   ],
   "metadata": {
    "collapsed": false,
    "ExecuteTime": {
     "end_time": "2023-06-01T15:18:31.497192400Z",
     "start_time": "2023-06-01T15:18:30.737498100Z"
    }
   }
  },
  {
   "cell_type": "code",
   "execution_count": 2,
   "outputs": [],
   "source": [
    "RES_PATH = \"C:/Users/jannik/programming_projects/nlp-project-ae/resources/data/\"\n"
   ],
   "metadata": {
    "collapsed": false,
    "ExecuteTime": {
     "end_time": "2023-06-01T15:18:31.512195500Z",
     "start_time": "2023-06-01T15:18:31.497192400Z"
    }
   }
  },
  {
   "cell_type": "code",
   "execution_count": 20,
   "outputs": [
    {
     "data": {
      "text/plain": "0       [Keyboard, is, great, but, primary, and, secon...\n1       [I, bought, this, laptop, about, a, month, ago...\n2       [I, am, however, pleased, that, it, is, still,...\n3       [I, went, to, my, local, Best, Buy, looking, f...\n4       [The, Apple, MC371LL/, A, 2.4Ghz, 15.4-, inch,...\n                              ...                        \n2890    [After, talking, it, over, with, the, very, kn...\n2891    [If, internet, connectivity, is, important, I,...\n2892    [My, friend, just, had, to, replace, his, enti...\n2893    [I, work, with, kids, and, they, love, making,...\n2894    [I, am, forever, changed, and, will, no, longe...\nName: sentence, Length: 2895, dtype: object"
     },
     "execution_count": 20,
     "metadata": {},
     "output_type": "execute_result"
    }
   ],
   "source": [
    "# load data into Series (retrieving train, test and optimization sets)\n",
    "with open(RES_PATH + \"laptop/train.json\", \"r\", encoding=\"utf-8\") as file_train_laptop:\n",
    "    raw_train_laptop = pd.read_json(file_train_laptop, encoding=\"utf-8\", orient=\"index\")\n",
    "\n",
    "with open(RES_PATH + \"laptop/test.json\", \"r\", encoding=\"utf-8\") as file_test_laptop:\n",
    "    raw_test_laptop = pd.read_json(file_test_laptop, encoding=\"utf-8\", orient=\"index\")\n",
    "\n",
    "with open(RES_PATH + \"laptop/dev.json\", \"r\", encoding=\"utf-8\") as file_dev_laptop:\n",
    "    raw_dev_laptop = pd.read_json(file_dev_laptop, encoding=\"utf-8\", orient=\"index\")\n",
    "\n",
    "with open(RES_PATH + \"rest/train.json\", \"r\", encoding=\"utf-8\") as file_train_res:\n",
    "    raw_train_res = pd.read_json(file_train_res, encoding=\"utf-8\", orient=\"index\")\n",
    "\n",
    "with open(RES_PATH + \"rest/test.json\", \"r\", encoding=\"utf-8\") as file_test_res:\n",
    "    raw_test_res = pd.read_json(file_test_res, encoding=\"utf-8\", orient=\"index\")\n",
    "\n",
    "with open(RES_PATH + \"rest/dev.json\", \"r\", encoding=\"utf-8\") as file_dev_res:\n",
    "    raw_dev_res = pd.read_json(file_dev_res, encoding=\"utf-8\", orient=\"index\")\n",
    "\n",
    "raw_train_laptop['sentence']\n",
    "\n"
   ],
   "metadata": {
    "collapsed": false,
    "ExecuteTime": {
     "end_time": "2023-06-03T13:02:30.337208200Z",
     "start_time": "2023-06-03T13:02:30.284165400Z"
    }
   }
  },
  {
   "cell_type": "code",
   "execution_count": null,
   "outputs": [],
   "source": [
    "# preprocessing\n",
    "\n",
    "# [The, Apple, MC371LL/, A, 2.4Ghz, 15.4-, inch, MacBook, Pro, Notebook, is, a, horrible, waste, of, money, .]\n",
    "# -> [The, Apple MC371LL/A 2.4Ghz 15.4-inch MacBook Pro Notebook, is, a, horrible, waste, of, money, .]\n",
    "\n",
    "# [Did, n't, expect, to, repair, it, at, once, !]\n",
    "# -> [Didn't, expect, to, repair, it, at, once, !]"
   ],
   "metadata": {
    "collapsed": false
   }
  },
  {
   "cell_type": "code",
   "execution_count": null,
   "outputs": [],
   "source": [
    "# data reduction:\n",
    "# convert data to lowercase, correct spelling, remove/handle stopwords, remove/handle punctuation, remove/handle numbers, remove/handle special characters\n",
    "# detect ambiguous words and re-label them correctly"
   ],
   "metadata": {
    "collapsed": false
   }
  },
  {
   "cell_type": "code",
   "execution_count": null,
   "outputs": [],
   "source": [
    "# data transformation:\n",
    "# unnecessary for this project, data already in the correct format: string and integer values are suitable for the model"
   ],
   "metadata": {
    "collapsed": false
   }
  },
  {
   "cell_type": "code",
   "execution_count": null,
   "outputs": [],
   "source": [
    "# data cleaning:\n",
    "# remove too short/long sentences, remove duplicate sentences, remove empty sentences, remove sentences with only stopwords, remove sentences with only punctuation, remove sentences with only numbers, remove sentences with only special characters"
   ],
   "metadata": {
    "collapsed": false
   }
  },
  {
   "cell_type": "code",
   "execution_count": null,
   "outputs": [],
   "source": [
    "# data integration:\n",
    "# unnecessary for this project, only one datasource present"
   ],
   "metadata": {
    "collapsed": false
   }
  },
  {
   "cell_type": "code",
   "execution_count": null,
   "outputs": [],
   "source": [
    "# modeling (Co-Pilot suggestions LOL):\n",
    "# model selection: Naive Bayes, SVM, Decision Tree, Random Forest, Logistic Regression, Neural Network, RNN, LSTM, BERT\n",
    "# model training: 70/10/20 split, 5-fold cross-validation\n",
    "# model optimization: hyperparameter tuning, cross-validation, grid search, random search\n",
    "# model testing:\n"
   ],
   "metadata": {
    "collapsed": false
   }
  },
  {
   "cell_type": "code",
   "execution_count": null,
   "outputs": [],
   "source": [],
   "metadata": {
    "collapsed": false
   }
  },
  {
   "cell_type": "code",
   "execution_count": null,
   "outputs": [],
   "source": [
    "# model evaluation with metrics precision, recall, accuracy, f1-score and confusion matrix\n",
    "# https://scikit-learn.org/stable/modules/generated/sklearn.metrics.classification_report.html"
   ],
   "metadata": {
    "collapsed": false
   }
  }
 ],
 "metadata": {
  "kernelspec": {
   "display_name": "Python 3",
   "language": "python",
   "name": "python3"
  },
  "language_info": {
   "codemirror_mode": {
    "name": "ipython",
    "version": 2
   },
   "file_extension": ".py",
   "mimetype": "text/x-python",
   "name": "python",
   "nbconvert_exporter": "python",
   "pygments_lexer": "ipython2",
   "version": "2.7.6"
  }
 },
 "nbformat": 4,
 "nbformat_minor": 0
}
